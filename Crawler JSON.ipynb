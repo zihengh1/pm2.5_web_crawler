{
 "cells": [
  {
   "cell_type": "code",
   "execution_count": 6,
   "metadata": {
    "collapsed": true
   },
   "outputs": [],
   "source": [
    "from urllib.request import urlopen\n",
    "import json"
   ]
  },
  {
   "cell_type": "code",
   "execution_count": 23,
   "metadata": {},
   "outputs": [],
   "source": [
    "#crawl the web\n",
    "\n",
    "url =\"https://pm25.lass-net.org/AirBox/taipei.json\"\n",
    "data = urlopen(url).read()\n",
    "data = data.decode('UTF-8')\n",
    "#print(type(data))\n",
    "#print(data)"
   ]
  },
  {
   "cell_type": "code",
   "execution_count": 27,
   "metadata": {},
   "outputs": [
    {
     "name": "stdout",
     "output_type": "stream",
     "text": [
      "155\n"
     ]
    }
   ],
   "source": [
    "data2 = json.loads(data)\n",
    "#print(type(data2))\n",
    "#print(data2[\"feeds\"])\n",
    "print(len(data2[\"feeds\"]))"
   ]
  },
  {
   "cell_type": "code",
   "execution_count": 43,
   "metadata": {},
   "outputs": [
    {
     "name": "stdout",
     "output_type": "stream",
     "text": [
      "台北市雙蓮國小\n",
      "{'ranking': 0.95, 'gps_lat': 'N/A', 'site_id': '28C2DDDD457E', 'site': '台北市雙蓮國小', 'ver_app': 'N/A', 'source': 'Taipei', 'survey': 'none', 'gps_lon': 'N/A', 'latest': 'N/A', 'malfunction_1': 0.0, 'malfunction_2': 0.02631578947368421, 'malfunction_3': 0.02631578947368421, 'pollution': 'none'} \n",
      "\n",
      "台北市西門國小\n",
      "{'ranking': 0.85, 'gps_lat': 25.042, 'site_id': '28C2DDDD423E', 'site': '台北市西門國小', 'ver_app': '1.0', 'source': 'Taipei', 'survey': 'none', 'gps_lon': 121.503, 'latest': '2018-02-22T05:06:41Z', 'malfunction_1': 0.0, 'malfunction_2': 0.12, 'malfunction_3': 0.0, 'pollution': 'none'} \n",
      "\n",
      "台北市螢橋國小\n",
      "{'ranking': 0.5700000000000001, 'gps_lat': 25.025, 'site_id': '28C2DDDD4346', 'site': '台北市螢橋國小', 'ver_app': '1.0', 'source': 'Taipei', 'survey': 'none', 'gps_lon': 121.514, 'latest': '2018-02-22T05:02:30Z', 'malfunction_1': 0.0, 'malfunction_2': 0.42, 'malfunction_3': 0.1, 'pollution': 'none'} \n",
      "\n",
      "台北市舊莊國小\n",
      "{'ranking': 0.42000000000000004, 'gps_lat': 'N/A', 'site_id': '28C2DDDD4414', 'site': '台北市舊莊國小', 'ver_app': 'N/A', 'source': 'Taipei', 'survey': '2016-12-02', 'gps_lon': 'N/A', 'latest': 'N/A', 'malfunction_1': 0.0, 'malfunction_2': 0.47368421052631576, 'malfunction_3': 0.0, 'pollution': 'none'} \n",
      "\n",
      "台北市興華國小\n",
      "{'ranking': 0.84, 'gps_lat': 24.999, 'site_id': '28C2DDDD435A', 'site': '台北市興華國小', 'ver_app': '1.0', 'source': 'Taipei', 'survey': '2016-12-22', 'gps_lon': 121.559, 'latest': '2018-02-22T05:01:21Z', 'malfunction_1': 0.0, 'malfunction_2': 0.05, 'malfunction_3': 0.05, 'pollution': 'none'} \n",
      "\n",
      "台北市私立再興小學\n",
      "{'ranking': 0.87, 'gps_lat': 24.989, 'site_id': '28C2DDDD47A4', 'site': '台北市私立再興小學', 'ver_app': '1.0', 'source': 'Taipei', 'survey': '2016-12-05', 'gps_lon': 121.558, 'latest': '2018-02-22T05:03:26Z', 'malfunction_1': 0.0, 'malfunction_2': 0.09523809523809523, 'malfunction_3': 0.0, 'pollution': 'none'} \n",
      "\n",
      "台北市萬芳國小\n",
      "{'ranking': 0.99, 'gps_lat': 25.0, 'site_id': '28C2DDDD47BB', 'site': '台北市萬芳國小', 'ver_app': '0.35.0', 'source': 'Taipei', 'survey': 'none', 'gps_lon': 121.567, 'latest': '2018-02-22T04:44:41Z', 'malfunction_1': 0.0, 'malfunction_2': 0.0, 'malfunction_3': 0.0, 'pollution': 'none'} \n",
      "\n",
      "台北市萬興國小\n",
      "{'ranking': 0.97, 'gps_lat': 24.99, 'site_id': '28C2DDDD423C', 'site': '台北市萬興國小', 'ver_app': '1.0', 'source': 'Taipei', 'survey': 'none', 'gps_lon': 121.576, 'latest': '2018-02-22T04:31:56Z', 'malfunction_1': 0.0, 'malfunction_2': 0.0, 'malfunction_3': 0.0, 'pollution': 'none'} \n",
      "\n",
      "台北市萬福國小\n",
      "{'ranking': 0.81, 'gps_lat': 25.005, 'site_id': '28C2DDDD4571', 'site': '台北市萬福國小', 'ver_app': '1.0', 'source': 'Taipei', 'survey': 'none', 'gps_lon': 121.537, 'latest': '2018-02-22T04:18:28Z', 'malfunction_1': 0.0, 'malfunction_2': 0.16, 'malfunction_3': 0.04, 'pollution': 'none'} \n",
      "\n",
      "台北市福林國小\n",
      "{'ranking': 0.89, 'gps_lat': 25.098, 'site_id': '28C2DDDD459A', 'site': '台北市福林國小', 'ver_app': '1.0', 'source': 'Taipei', 'survey': '2016-11-29', 'gps_lon': 121.525, 'latest': '2018-02-22T04:43:01Z', 'malfunction_1': 0.0, 'malfunction_2': 0.16071428571428573, 'malfunction_3': 0.0, 'pollution': 'none'} \n",
      "\n",
      "台北市社子國小\n",
      "{'ranking': 0.94, 'gps_lat': 25.089, 'site_id': '28C2DDDD459F', 'site': '台北市社子國小', 'ver_app': '1.0', 'source': 'Taipei', 'survey': '2016-12-05', 'gps_lon': 121.503, 'latest': '2018-02-22T04:53:27Z', 'malfunction_1': 0.0, 'malfunction_2': 0.0, 'malfunction_3': 0.029411764705882353, 'pollution': 'none'} \n",
      "\n",
      "台北市百齡國小\n",
      "{'ranking': 0.89, 'gps_lat': 25.086, 'site_id': '28C2DDDD4344', 'site': '台北市百齡國小', 'ver_app': '1.0', 'source': 'Taipei', 'survey': 'none', 'gps_lon': 121.518, 'latest': '2018-02-22T04:43:56Z', 'malfunction_1': 0.0, 'malfunction_2': 0.0, 'malfunction_3': 0.10526315789473684, 'pollution': 'none'} \n",
      "\n",
      "台北市玉成國小\n",
      "{'ranking': 0.55, 'gps_lat': 25.053, 'site_id': '28C2DDDD43FD', 'site': '台北市玉成國小', 'ver_app': '1.0', 'source': 'Taipei', 'survey': 'none', 'gps_lon': 121.593, 'latest': '2018-02-22T04:58:43Z', 'malfunction_1': 0.0, 'malfunction_2': 0.3684210526315789, 'malfunction_3': 0.05263157894736842, 'pollution': 'none'} \n",
      "\n",
      "台北市潭美國小\n",
      "{'ranking': 0.35, 'gps_lat': 25.061, 'site_id': '28C2DDDD4372', 'site': '台北市潭美國小', 'ver_app': '1.0', 'source': 'Taipei', 'survey': 'none', 'gps_lon': 121.59, 'latest': '2018-02-22T05:00:24Z', 'malfunction_1': 0.0, 'malfunction_2': 0.5416666666666666, 'malfunction_3': 0.0, 'pollution': 'none'} \n",
      "\n",
      "台北市溫州國宅\n",
      "{'ranking': 0.9, 'gps_lat': 25.019, 'site_id': '28C2DDDD47C6', 'site': '台北市溫州國宅', 'ver_app': '1.0', 'source': 'Taipei', 'survey': 'none', 'gps_lon': 121.532, 'latest': '2018-02-22T05:09:41Z', 'malfunction_1': 'none', 'malfunction_2': 'none', 'malfunction_3': 'none', 'pollution': 'none'} \n",
      "\n",
      "台北市湖田國小\n",
      "{'ranking': 0.97, 'gps_lat': 25.169, 'site_id': '28C2DDDD415E', 'site': '台北市湖田國小', 'ver_app': '1.0', 'source': 'Taipei', 'survey': 'none', 'gps_lon': 121.538, 'latest': '2018-02-22T04:54:27Z', 'malfunction_1': 1.0, 'malfunction_2': 0.0, 'malfunction_3': 0.0, 'pollution': 'none'} \n",
      "\n",
      "台北市清江國小\n",
      "{'ranking': 0.99, 'gps_lat': 25.126, 'site_id': '28C2DDDD4246', 'site': '台北市清江國小', 'ver_app': '0.35.2', 'source': 'Taipei', 'survey': 'none', 'gps_lon': 121.506, 'latest': '2018-02-22T04:57:19Z', 'malfunction_1': 0.0, 'malfunction_2': 0.0, 'malfunction_3': 0.0, 'pollution': 'none'} \n",
      "\n",
      "台北市泉源國小\n",
      "{'ranking': 0.87, 'gps_lat': 25.149, 'site_id': '28C2DDDD4338', 'site': '台北市泉源國小', 'ver_app': '0.35.0', 'source': 'Taipei', 'survey': '2016-12-07', 'gps_lon': 121.524, 'latest': '2018-02-22T05:05:52Z', 'malfunction_1': 0.2830188679245283, 'malfunction_2': 0.05660377358490566, 'malfunction_3': 0.018867924528301886, 'pollution': 'none'} \n",
      "\n",
      "台北市河堤國小\n",
      "{'ranking': 0.9, 'gps_lat': 25.023, 'site_id': '28C2DDDD436E', 'site': '台北市河堤國小', 'ver_app': '0.35.2', 'source': 'Taipei', 'survey': 'none', 'gps_lon': 121.521, 'latest': '2018-02-22T04:43:59Z', 'malfunction_1': 0.0, 'malfunction_2': 0.0, 'malfunction_3': 0.14583333333333334, 'pollution': 'none'} \n",
      "\n",
      "台北市永樂國小\n",
      "{'ranking': 0.8, 'gps_lat': 25.061, 'site_id': '28C2DDDD4598', 'site': '台北市永樂國小', 'ver_app': '1.0', 'source': 'Taipei', 'survey': 'none', 'gps_lon': 121.51, 'latest': '2018-02-22T04:29:46Z', 'malfunction_1': 0.0, 'malfunction_2': 0.0, 'malfunction_3': 0.0, 'pollution': 'none'} \n",
      "\n",
      "台北市永建國小\n",
      "{'ranking': 0.71, 'gps_lat': 24.987, 'site_id': '28C2DDDD4357', 'site': '台北市永建國小', 'ver_app': '1.0', 'source': 'Taipei', 'survey': 'none', 'gps_lon': 121.55, 'latest': '2018-02-22T05:09:26Z', 'malfunction_1': 0.0, 'malfunction_2': 0.0, 'malfunction_3': 1.0, 'pollution': 'none'} \n",
      "\n",
      "台北市民族國小\n",
      "{'ranking': 0.9299999999999999, 'gps_lat': 25.059, 'site_id': '28C2DDDD4408', 'site': '台北市民族國小', 'ver_app': '1.0', 'source': 'Taipei', 'survey': 'none', 'gps_lon': 121.551, 'latest': '2018-02-22T04:58:49Z', 'malfunction_1': 0.0, 'malfunction_2': 0.17647058823529413, 'malfunction_3': 0.0, 'pollution': 'none'} \n",
      "\n",
      "台北市松山國小\n",
      "{'ranking': 0.69, 'gps_lat': 25.05, 'site_id': '28C2DDDD4243', 'site': '台北市松山國小', 'ver_app': '0.35.2', 'source': 'Taipei', 'survey': 'none', 'gps_lon': 121.578, 'latest': '2018-02-22T05:01:00Z', 'malfunction_1': 0.0, 'malfunction_2': 0.26666666666666666, 'malfunction_3': 0.06666666666666667, 'pollution': 'none'} \n",
      "\n",
      "台北市東門國小\n",
      "{'ranking': 0.38, 'gps_lat': 25.04, 'site_id': '28C2DDDD4233', 'site': '台北市東門國小', 'ver_app': '1.0', 'source': 'Taipei', 'survey': 'none', 'gps_lon': 121.52, 'latest': '2018-02-22T04:42:58Z', 'malfunction_1': 0.0, 'malfunction_2': 0.0, 'malfunction_3': 0.6428571428571429, 'pollution': 'none'} \n",
      "\n",
      "台北市東湖國小\n",
      "{'ranking': 0.75, 'gps_lat': 25.069, 'site_id': '28C2DDDD4149', 'site': '台北市東湖國小', 'ver_app': '1.0', 'source': 'Taipei', 'survey': 'none', 'gps_lon': 121.615, 'latest': '2018-02-22T04:38:03Z', 'malfunction_1': 0.0, 'malfunction_2': 0.0, 'malfunction_3': 0.13333333333333333, 'pollution': 'none'} \n",
      "\n",
      "台北市木柵國小\n",
      "{'ranking': 0.89, 'gps_lat': 24.99, 'site_id': '28C2DDDD4354', 'site': '台北市木柵國小', 'ver_app': '1.0', 'source': 'Taipei', 'survey': 'none', 'gps_lon': 121.57, 'latest': '2018-02-22T04:46:58Z', 'malfunction_1': 0.0, 'malfunction_2': 0.0, 'malfunction_3': 0.0625, 'pollution': 'none'} \n",
      "\n",
      "台北市明德國小\n",
      "{'ranking': 0.91, 'gps_lat': 25.112, 'site_id': '28C2DDDD458A', 'site': '台北市明德國小', 'ver_app': '1.0', 'source': 'Taipei', 'survey': 'none', 'gps_lon': 121.522, 'latest': '2018-02-22T05:14:32Z', 'malfunction_1': 0.0, 'malfunction_2': 0.06060606060606061, 'malfunction_3': 0.0, 'pollution': 'none'} \n",
      "\n",
      "台北市敦化國小\n",
      "{'ranking': 0.95, 'gps_lat': 25.049, 'site_id': '28C2DDDD400A', 'site': '台北市敦化國小', 'ver_app': '1.0', 'source': 'Taipei', 'survey': 'none', 'gps_lon': 121.548, 'latest': '2018-02-22T05:00:24Z', 'malfunction_1': 0.0, 'malfunction_2': 0.06666666666666667, 'malfunction_3': 0.022222222222222223, 'pollution': 'none'} \n",
      "\n",
      "台北市富安國小\n",
      "{'ranking': 0.91, 'gps_lat': 25.105, 'site_id': '28C2DDDD45A1', 'site': '台北市富安國小', 'ver_app': '1.0', 'source': 'Taipei', 'survey': 'none', 'gps_lon': 121.482, 'latest': '2018-02-22T04:46:35Z', 'malfunction_1': 0.0, 'malfunction_2': 0.11363636363636363, 'malfunction_3': 0.022727272727272728, 'pollution': 'none'} \n",
      "\n",
      "台北市大理國小\n",
      "{'ranking': 0.79, 'gps_lat': 25.031, 'site_id': '28C2DDDD4599', 'site': '台北市大理國小', 'ver_app': '1.0', 'source': 'Taipei', 'survey': 'none', 'gps_lon': 121.493, 'latest': '2018-02-22T04:54:24Z', 'malfunction_1': 0.0, 'malfunction_2': 0.2826086956521739, 'malfunction_3': 0.021739130434782608, 'pollution': 'none'} \n",
      "\n",
      "台北市大同國小\n",
      "{'ranking': 0.92, 'gps_lat': 25.064, 'site_id': '28C2DDDD4568', 'site': '台北市大同國小', 'ver_app': '1.0', 'source': 'Taipei', 'survey': 'none', 'gps_lon': 121.516, 'latest': '2018-02-22T05:03:42Z', 'malfunction_1': 0.0, 'malfunction_2': 0.10714285714285714, 'malfunction_3': 0.017857142857142856, 'pollution': 'none'} \n",
      "\n",
      "台北市大佳國小\n",
      "{'ranking': 0.87, 'gps_lat': 25.073, 'site_id': '28C2DDDD41B2', 'site': '台北市大佳國小', 'ver_app': '1.0', 'source': 'Taipei', 'survey': 'none', 'gps_lon': 121.536, 'latest': '2018-02-22T05:08:28Z', 'malfunction_1': 0.0, 'malfunction_2': 0.027777777777777776, 'malfunction_3': 0.1388888888888889, 'pollution': 'none'} \n",
      "\n",
      "台北市吉林國小\n",
      "{'ranking': 0.25, 'gps_lat': 25.036, 'site_id': '28C2DDDD458F', 'site': '台北市吉林國小', 'ver_app': '1.0', 'source': 'Taipei', 'survey': 'none', 'gps_lon': 121.532, 'latest': '2018-02-22T05:14:37Z', 'malfunction_1': 0.0, 'malfunction_2': 0.0, 'malfunction_3': 0.7872340425531915, 'pollution': 'none'} \n",
      "\n",
      "台北市博愛國小\n",
      "{'ranking': 0.28, 'gps_lat': 25.035, 'site_id': '28C2DDDD4579', 'site': '台北市博愛國小', 'ver_app': '1.0', 'source': 'Taipei', 'survey': 'none', 'gps_lon': 121.571, 'latest': '2018-02-22T05:03:33Z', 'malfunction_1': 0.0, 'malfunction_2': 0.5641025641025641, 'malfunction_3': 0.02564102564102564, 'pollution': 'none'} \n",
      "\n",
      "台北市南門國小\n",
      "{'ranking': 0.97, 'gps_lat': 25.034, 'site_id': '28C2DDDD4785', 'site': '台北市南門國小', 'ver_app': '0.35.2', 'source': 'Taipei', 'survey': 'none', 'gps_lon': 121.509, 'latest': '2018-02-22T04:25:21Z', 'malfunction_1': 0.0, 'malfunction_2': 0.0, 'malfunction_3': 0.05172413793103448, 'pollution': 'none'} \n",
      "\n",
      "台北市公館國小\n",
      "{'ranking': 0.94, 'gps_lat': 25.012, 'site_id': '28C2DDDD4423', 'site': '台北市公館國小', 'ver_app': '0.35.0', 'source': 'Taipei', 'survey': 'none', 'gps_lon': 121.542, 'latest': '2018-02-22T04:24:41Z', 'malfunction_1': 0.0, 'malfunction_2': 0.05263157894736842, 'malfunction_3': 0.03508771929824561, 'pollution': 'none'} \n",
      "\n",
      "台北市健康國小\n",
      "{'ranking': 0.89, 'gps_lat': 25.056, 'site_id': '28C2DDDD4378', 'site': '台北市健康國小', 'ver_app': '1.0', 'source': 'Taipei', 'survey': 'none', 'gps_lon': 121.562, 'latest': '2018-02-22T05:08:55Z', 'malfunction_1': 0.0, 'malfunction_2': 0.20454545454545456, 'malfunction_3': 0.0, 'pollution': 'none'} \n",
      "\n",
      "台北市信義國小\n",
      "{'ranking': 0.29000000000000004, 'gps_lat': 25.031, 'site_id': '28C2DDDD43FC', 'site': '台北市信義國小', 'ver_app': '1.0', 'source': 'Taipei', 'survey': '2016-12-19', 'gps_lon': 121.563, 'latest': '2018-02-22T04:41:41Z', 'malfunction_1': 0.0, 'malfunction_2': 0.0, 'malfunction_3': 0.5666666666666667, 'pollution': 'none'} \n",
      "\n",
      "台北市三興國小\n",
      "{'ranking': 0.75, 'gps_lat': 25.029, 'site_id': '28C2DDDD4559', 'site': '台北市三興國小', 'ver_app': '1.0', 'source': 'Taipei', 'survey': 'none', 'gps_lon': 121.557, 'latest': '2018-02-22T04:59:17Z', 'malfunction_1': 0.0, 'malfunction_2': 0.25, 'malfunction_3': 0.09375, 'pollution': 'none'} \n",
      "\n",
      "台北市關渡國小\n",
      "{'ranking': 0.69, 'gps_lat': 25.062, 'site_id': '28C2DDDD45AA', 'site': '台北市關渡國小', 'ver_app': '1.0', 'source': 'Taipei', 'survey': 'none', 'gps_lon': 121.451, 'latest': '2018-02-22T04:49:19Z', 'malfunction_1': 0.0, 'malfunction_2': 0.0, 'malfunction_3': 0.45454545454545453, 'pollution': 'none'} \n",
      "\n",
      "Edimax-1\n",
      "{'ranking': 0.71, 'gps_lat': 25.062, 'site_id': '28C2DDDD41A0', 'site': 'Edimax-1', 'ver_app': '1.0.3', 'source': 'Taipei', 'survey': 'none', 'gps_lon': 121.582, 'latest': '2018-02-22T05:10:00Z', 'malfunction_1': 0.0, 'malfunction_2': 0.2777777777777778, 'malfunction_3': 0.08333333333333333, 'pollution': 'none'} \n",
      "\n"
     ]
    }
   ],
   "source": [
    "Taipei_id_list = []\n",
    "for element in data2['feeds']:\n",
    "    if element['ranking'] is not -1:\n",
    "        print(element['site'])\n",
    "        print(element,\"\\n\")\n",
    "        Taipei_id_list.append)\n",
    "        "
   ]
  },
  {
   "cell_type": "code",
   "execution_count": null,
   "metadata": {
    "collapsed": true
   },
   "outputs": [],
   "source": []
  }
 ],
 "metadata": {
  "kernelspec": {
   "display_name": "Python 3",
   "language": "python",
   "name": "python3"
  },
  "language_info": {
   "codemirror_mode": {
    "name": "ipython",
    "version": 3
   },
   "file_extension": ".py",
   "mimetype": "text/x-python",
   "name": "python",
   "nbconvert_exporter": "python",
   "pygments_lexer": "ipython3",
   "version": "3.6.3"
  }
 },
 "nbformat": 4,
 "nbformat_minor": 2
}
