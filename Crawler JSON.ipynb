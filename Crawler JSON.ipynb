{
 "cells": [
  {
   "cell_type": "code",
   "execution_count": 4,
   "metadata": {
    "collapsed": true
   },
   "outputs": [],
   "source": [
    "from urllib.request import urlopen\n",
    "import json"
   ]
  },
  {
   "cell_type": "code",
   "execution_count": 5,
   "metadata": {},
   "outputs": [],
   "source": [
    "#crawl the web\n",
    "url =\"https://pm25.lass-net.org/AirBox/taipei.json\"\n",
    "data = urlopen(url).read()\n",
    "data = data.decode('UTF-8')\n",
    "#print(type(data))\n",
    "#print(data)"
   ]
  },
  {
   "cell_type": "code",
   "execution_count": 6,
   "metadata": {},
   "outputs": [],
   "source": [
    "data2 = json.loads(data)\n",
    "#print(type(data2))\n",
    "#print(data2[\"feeds\"])\n",
    "#print(len(data2[\"feeds\"]))"
   ]
  },
  {
   "cell_type": "code",
   "execution_count": 10,
   "metadata": {},
   "outputs": [
    {
     "name": "stdout",
     "output_type": "stream",
     "text": [
      "台北市雨農國小\n",
      "{'ranking': 0.73, 'gps_lat': 25.105, 'site_id': '28C2DDDD4242', 'site': '台北市雨農國小', 'ver_app': '1.0', 'source': 'Taipei', 'survey': 'none', 'gps_lon': 121.531, 'latest': '2018-03-01T15:41:08Z', 'malfunction_1': 'none', 'malfunction_2': 'none', 'malfunction_3': 'none', 'pollution': 'none'} \n",
      "\n",
      "台北市逸仙國小\n",
      "{'ranking': 0.64, 'gps_lat': 25.138, 'site_id': '28C2DDDD4580', 'site': '台北市逸仙國小', 'ver_app': '1.0', 'source': 'Taipei', 'survey': 'none', 'gps_lon': 121.505, 'latest': '2018-03-01T15:05:09Z', 'malfunction_1': 0.0, 'malfunction_2': 0.0, 'malfunction_3': 0.3111111111111111, 'pollution': 'none'} \n",
      "\n",
      "台北市西門國小\n",
      "{'ranking': 0.76, 'gps_lat': 'N/A', 'site_id': '28C2DDDD423E', 'site': '台北市西門國小', 'ver_app': 'N/A', 'source': 'Taipei', 'survey': 'none', 'gps_lon': 'N/A', 'latest': 'N/A', 'malfunction_1': 0.0, 'malfunction_2': 0.15555555555555556, 'malfunction_3': 0.0, 'pollution': 'none'} \n",
      "\n",
      "台北市西園國小\n",
      "{'ranking': 0.96, 'gps_lat': 'N/A', 'site_id': '28C2DDDD423A', 'site': '台北市西園國小', 'ver_app': 'N/A', 'source': 'Taipei', 'survey': 'none', 'gps_lon': 'N/A', 'latest': 'N/A', 'malfunction_1': 'none', 'malfunction_2': 'none', 'malfunction_3': 'none', 'pollution': 'none'} \n",
      "\n",
      "台北市螢橋國小\n",
      "{'ranking': 0.89, 'gps_lat': 25.025, 'site_id': '28C2DDDD4346', 'site': '台北市螢橋國小', 'ver_app': '1.0', 'source': 'Taipei', 'survey': 'none', 'gps_lon': 121.514, 'latest': '2018-03-01T14:58:25Z', 'malfunction_1': 0.0, 'malfunction_2': 0.0, 'malfunction_3': 0.0, 'pollution': 'none'} \n",
      "\n",
      "台北市薇閣國小\n",
      "{'ranking': 0.85, 'gps_lat': 25.062, 'site_id': '28C2DDDD4240', 'site': '台北市薇閣國小', 'ver_app': '1.0', 'source': 'Taipei', 'survey': 'none', 'gps_lon': 121.451, 'latest': '2018-03-01T14:53:22Z', 'malfunction_1': 'none', 'malfunction_2': 'none', 'malfunction_3': 'none', 'pollution': 'none'} \n",
      "\n",
      "台北市舊莊國小\n",
      "{'ranking': 0.75, 'gps_lat': 'N/A', 'site_id': '28C2DDDD4414', 'site': '台北市舊莊國小', 'ver_app': 'N/A', 'source': 'Taipei', 'survey': '2016-12-02', 'gps_lon': 'N/A', 'latest': 'N/A', 'malfunction_1': 0.0, 'malfunction_2': 0.3023255813953488, 'malfunction_3': 0.0, 'pollution': 'none'} \n",
      "\n",
      "台北市私立再興小學\n",
      "{'ranking': 0.85, 'gps_lat': 24.989, 'site_id': '28C2DDDD47A4', 'site': '台北市私立再興小學', 'ver_app': '1.0', 'source': 'Taipei', 'survey': '2016-12-05', 'gps_lon': 121.558, 'latest': '2018-03-01T15:30:19Z', 'malfunction_1': 0.0, 'malfunction_2': 0.05, 'malfunction_3': 0.0, 'pollution': 'none'} \n",
      "\n",
      "台北市萬芳國小\n",
      "{'ranking': 0.97, 'gps_lat': 25.0, 'site_id': '28C2DDDD47BB', 'site': '台北市萬芳國小', 'ver_app': '0.35.0', 'source': 'Taipei', 'survey': 'none', 'gps_lon': 121.567, 'latest': '2018-03-01T15:41:59Z', 'malfunction_1': 0.0, 'malfunction_2': 0.02, 'malfunction_3': 0.0, 'pollution': 'none'} \n",
      "\n",
      "台北市萬興國小\n",
      "{'ranking': 0.97, 'gps_lat': 'N/A', 'site_id': '28C2DDDD423C', 'site': '台北市萬興國小', 'ver_app': 'N/A', 'source': 'Taipei', 'survey': 'none', 'gps_lon': 'N/A', 'latest': 'N/A', 'malfunction_1': 0.0, 'malfunction_2': 0.0, 'malfunction_3': 0.0392156862745098, 'pollution': 'none'} \n",
      "\n",
      "台北市萬福國小\n",
      "{'ranking': 0.9299999999999999, 'gps_lat': 25.005, 'site_id': '28C2DDDD4571', 'site': '台北市萬福國小', 'ver_app': '1.0', 'source': 'Taipei', 'survey': 'none', 'gps_lon': 121.537, 'latest': '2018-03-01T15:36:44Z', 'malfunction_1': 0.0, 'malfunction_2': 0.0, 'malfunction_3': 0.0, 'pollution': 'none'} \n",
      "\n",
      "台北市社子國小\n",
      "{'ranking': 0.9299999999999999, 'gps_lat': 25.089, 'site_id': '28C2DDDD459F', 'site': '台北市社子國小', 'ver_app': '1.0', 'source': 'Taipei', 'survey': '2016-12-05', 'gps_lon': 121.503, 'latest': '2018-03-01T14:52:34Z', 'malfunction_1': 0.0, 'malfunction_2': 0.02857142857142857, 'malfunction_3': 0.0, 'pollution': 'none'} \n",
      "\n",
      "台北市潭美國小\n",
      "{'ranking': 0.010000000000000009, 'gps_lat': 'N/A', 'site_id': '28C2DDDD4372', 'site': '台北市潭美國小', 'ver_app': 'N/A', 'source': 'Taipei', 'survey': 'none', 'gps_lon': 'N/A', 'latest': 'N/A', 'malfunction_1': 0.0, 'malfunction_2': 1.0, 'malfunction_3': 0.0, 'pollution': 'none'} \n",
      "\n",
      "台北市溫州國宅\n",
      "{'ranking': 0.91, 'gps_lat': 25.019, 'site_id': '28C2DDDD47C6', 'site': '台北市溫州國宅', 'ver_app': '1.0', 'source': 'Taipei', 'survey': 'none', 'gps_lon': 121.532, 'latest': '2018-03-01T15:40:33Z', 'malfunction_1': 0.0, 'malfunction_2': 0.05, 'malfunction_3': 0.0, 'pollution': 'none'} \n",
      "\n",
      "台北市清江國小\n",
      "{'ranking': 0.87, 'gps_lat': 25.126, 'site_id': '28C2DDDD4246', 'site': '台北市清江國小', 'ver_app': '0.35.2', 'source': 'Taipei', 'survey': 'none', 'gps_lon': 121.506, 'latest': '2018-03-01T15:27:00Z', 'malfunction_1': 0.0, 'malfunction_2': 0.05405405405405406, 'malfunction_3': 0.10810810810810811, 'pollution': 'none'} \n",
      "\n",
      "台北市河堤國小\n",
      "{'ranking': 0.88, 'gps_lat': 'N/A', 'site_id': '28C2DDDD436E', 'site': '台北市河堤國小', 'ver_app': 'N/A', 'source': 'Taipei', 'survey': 'none', 'gps_lon': 'N/A', 'latest': 'N/A', 'malfunction_1': 0.0, 'malfunction_2': 0.0, 'malfunction_3': 0.03773584905660377, 'pollution': 'none'} \n",
      "\n",
      "台北市永樂國小\n",
      "{'ranking': 0.89, 'gps_lat': 'N/A', 'site_id': '28C2DDDD4598', 'site': '台北市永樂國小', 'ver_app': 'N/A', 'source': 'Taipei', 'survey': 'none', 'gps_lon': 'N/A', 'latest': 'N/A', 'malfunction_1': 0.0, 'malfunction_2': 0.03571428571428571, 'malfunction_3': 0.0, 'pollution': 'none'} \n",
      "\n",
      "台北市永建國小\n",
      "{'ranking': 0.64, 'gps_lat': 'N/A', 'site_id': '28C2DDDD4357', 'site': '台北市永建國小', 'ver_app': 'N/A', 'source': 'Taipei', 'survey': 'none', 'gps_lon': 'N/A', 'latest': 'N/A', 'malfunction_1': 0.0, 'malfunction_2': 0.0, 'malfunction_3': 0.325, 'pollution': 'none'} \n",
      "\n",
      "台北市松山國小\n",
      "{'ranking': 0.5800000000000001, 'gps_lat': 25.05, 'site_id': '28C2DDDD4243', 'site': '台北市松山國小', 'ver_app': '0.35.2', 'source': 'Taipei', 'survey': 'none', 'gps_lon': 121.578, 'latest': '2018-03-01T15:07:22Z', 'malfunction_1': 0.0, 'malfunction_2': 0.4722222222222222, 'malfunction_3': 0.0, 'pollution': 'none'} \n",
      "\n",
      "台北市東門國小\n",
      "{'ranking': 0.5, 'gps_lat': 'N/A', 'site_id': '28C2DDDD4233', 'site': '台北市東門國小', 'ver_app': 'N/A', 'source': 'Taipei', 'survey': 'none', 'gps_lon': 'N/A', 'latest': 'N/A', 'malfunction_1': 0.0, 'malfunction_2': 0.0, 'malfunction_3': 0.2391304347826087, 'pollution': 'none'} \n",
      "\n",
      "台北市明德國小\n",
      "{'ranking': 0.91, 'gps_lat': 'N/A', 'site_id': '28C2DDDD458A', 'site': '台北市明德國小', 'ver_app': 'N/A', 'source': 'Taipei', 'survey': 'none', 'gps_lon': 'N/A', 'latest': 'N/A', 'malfunction_1': 0.0, 'malfunction_2': 0.10638297872340426, 'malfunction_3': 0.0, 'pollution': 'none'} \n",
      "\n",
      "台北市文昌國小\n",
      "{'ranking': 0.78, 'gps_lat': 25.134, 'site_id': '28C2DDDD4239', 'site': '台北市文昌國小', 'ver_app': '1.0', 'source': 'Taipei', 'survey': 'none', 'gps_lon': 121.496, 'latest': '2018-03-01T15:08:34Z', 'malfunction_1': 0.0, 'malfunction_2': 0.23684210526315788, 'malfunction_3': 0.02631578947368421, 'pollution': 'none'} \n",
      "\n",
      "台北市敦化國小\n",
      "{'ranking': 0.92, 'gps_lat': 25.049, 'site_id': '28C2DDDD400A', 'site': '台北市敦化國小', 'ver_app': '1.0', 'source': 'Taipei', 'survey': 'none', 'gps_lon': 121.548, 'latest': '2018-03-01T15:43:38Z', 'malfunction_1': 0.0, 'malfunction_2': 0.0, 'malfunction_3': 0.04878048780487805, 'pollution': 'none'} \n",
      "\n",
      "台北市懷生國小\n",
      "{'ranking': 0.95, 'gps_lat': 25.045, 'site_id': '28C2DDDD434F', 'site': '台北市懷生國小', 'ver_app': '1.0', 'source': 'Taipei', 'survey': 'none', 'gps_lon': 121.541, 'latest': '2018-03-01T15:35:39Z', 'malfunction_1': 'none', 'malfunction_2': 'none', 'malfunction_3': 'none', 'pollution': 'none'} \n",
      "\n",
      "台北市富安國小\n",
      "{'ranking': 0.95, 'gps_lat': 'N/A', 'site_id': '28C2DDDD45A1', 'site': '台北市富安國小', 'ver_app': 'N/A', 'source': 'Taipei', 'survey': 'none', 'gps_lon': 'N/A', 'latest': 'N/A', 'malfunction_1': 0.0, 'malfunction_2': 0.0, 'malfunction_3': 0.0, 'pollution': 'none'} \n",
      "\n",
      "台北市大理國小\n",
      "{'ranking': 0.76, 'gps_lat': 25.031, 'site_id': '28C2DDDD4599', 'site': '台北市大理國小', 'ver_app': '1.0', 'source': 'Taipei', 'survey': 'none', 'gps_lon': 121.493, 'latest': '2018-03-01T15:26:02Z', 'malfunction_1': 0.0, 'malfunction_2': 0.23333333333333334, 'malfunction_3': 0.0, 'pollution': 'none'} \n",
      "\n",
      "台北市大同國小\n",
      "{'ranking': 0.83, 'gps_lat': 25.064, 'site_id': '28C2DDDD4568', 'site': '台北市大同國小', 'ver_app': '1.0', 'source': 'Taipei', 'survey': 'none', 'gps_lon': 121.516, 'latest': '2018-03-01T15:24:44Z', 'malfunction_1': 0.0, 'malfunction_2': 0.07317073170731707, 'malfunction_3': 0.0, 'pollution': 'none'} \n",
      "\n",
      "台北市大佳國小\n",
      "{'ranking': 0.84, 'gps_lat': 'N/A', 'site_id': '28C2DDDD41B2', 'site': '台北市大佳國小', 'ver_app': 'N/A', 'source': 'Taipei', 'survey': 'none', 'gps_lon': 'N/A', 'latest': 'N/A', 'malfunction_1': 0.0, 'malfunction_2': 0.05263157894736842, 'malfunction_3': 0.05263157894736842, 'pollution': 'none'} \n",
      "\n",
      "台北市吉林國小\n",
      "{'ranking': 0.5700000000000001, 'gps_lat': 25.036, 'site_id': '28C2DDDD458F', 'site': '台北市吉林國小', 'ver_app': '1.0', 'source': 'Taipei', 'survey': 'none', 'gps_lon': 121.532, 'latest': '2018-03-01T15:22:11Z', 'malfunction_1': 0.0, 'malfunction_2': 0.0, 'malfunction_3': 0.29545454545454547, 'pollution': 'none'} \n",
      "\n",
      "台北市博愛國小\n",
      "{'ranking': 0.14, 'gps_lat': 25.035, 'site_id': '28C2DDDD4579', 'site': '台北市博愛國小', 'ver_app': '1.0', 'source': 'Taipei', 'survey': 'none', 'gps_lon': 121.571, 'latest': '2018-03-01T15:49:24Z', 'malfunction_1': 0.0, 'malfunction_2': 0.7631578947368421, 'malfunction_3': 0.0, 'pollution': 'none'} \n",
      "\n",
      "台北市公館國小\n",
      "{'ranking': 0.99, 'gps_lat': 25.012, 'site_id': '28C2DDDD4423', 'site': '台北市公館國小', 'ver_app': '0.35.0', 'source': 'Taipei', 'survey': 'none', 'gps_lon': 121.542, 'latest': '2018-03-01T15:18:27Z', 'malfunction_1': 0.0, 'malfunction_2': 0.0, 'malfunction_3': 0.017543859649122806, 'pollution': 'none'} \n",
      "\n",
      "台北市健康國小\n",
      "{'ranking': 0.76, 'gps_lat': 'N/A', 'site_id': '28C2DDDD4378', 'site': '台北市健康國小', 'ver_app': 'N/A', 'source': 'Taipei', 'survey': 'none', 'gps_lon': 'N/A', 'latest': 'N/A', 'malfunction_1': 0.0, 'malfunction_2': 0.09090909090909091, 'malfunction_3': 0.0, 'pollution': 'none'} \n",
      "\n",
      "台北市信義國小\n",
      "{'ranking': 0.30000000000000004, 'gps_lat': 25.031, 'site_id': '28C2DDDD43FC', 'site': '台北市信義國小', 'ver_app': '1.0', 'source': 'Taipei', 'survey': '2016-12-19', 'gps_lon': 121.563, 'latest': '2018-03-01T15:08:58Z', 'malfunction_1': 0.0, 'malfunction_2': 0.0, 'malfunction_3': 0.5, 'pollution': 'none'} \n",
      "\n",
      "台北市關渡國小\n",
      "{'ranking': 0.86, 'gps_lat': 25.062, 'site_id': '28C2DDDD45AA', 'site': '台北市關渡國小', 'ver_app': '1.0', 'source': 'Taipei', 'survey': 'none', 'gps_lon': 121.451, 'latest': '2018-03-01T15:31:58Z', 'malfunction_1': 0.0, 'malfunction_2': 0.0, 'malfunction_3': 0.0, 'pollution': 'none'} \n",
      "\n"
     ]
    }
   ],
   "source": [
    "Taipei_id_list = []\n",
    "for element in data2['feeds']:\n",
    "    if element['ranking'] is not -1:\n",
    "        print(element['site'])\n",
    "        print(element,\"\\n\")\n",
    "        Taipei_id_list.append(element)\n",
    "        "
   ]
  },
  {
   "cell_type": "code",
   "execution_count": null,
   "metadata": {
    "collapsed": true
   },
   "outputs": [],
   "source": []
  }
 ],
 "metadata": {
  "kernelspec": {
   "display_name": "Python 3",
   "language": "python",
   "name": "python3"
  },
  "language_info": {
   "codemirror_mode": {
    "name": "ipython",
    "version": 3
   },
   "file_extension": ".py",
   "mimetype": "text/x-python",
   "name": "python",
   "nbconvert_exporter": "python",
   "pygments_lexer": "ipython3",
   "version": "3.6.3"
  }
 },
 "nbformat": 4,
 "nbformat_minor": 2
}
