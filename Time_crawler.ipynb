{
 "cells": [
  {
   "cell_type": "code",
   "execution_count": 3,
   "metadata": {},
   "outputs": [],
   "source": [
    "from urllib.request import urlopen\n",
    "import json\n",
    "from multiprocessing import Queue"
   ]
  },
  {
   "cell_type": "code",
   "execution_count": 24,
   "metadata": {},
   "outputs": [],
   "source": [
    "data_list = []\n",
    "def url_read(url):\n",
    "    web_txt = urlopen(url).read()\n",
    "    web_txt = web_txt.decode('UTF-8')\n",
    "    # print(type(web_txt))\n",
    "    data = json.loads(web_txt)\n",
    "    # print(type(data))\n",
    "    # print(data[\"feeds\"])\n",
    "    for x in data[\"feeds\"]:\n",
    "        element = x[\"AirBox\"]\n",
    "        # print(element)\n",
    "        for content in element:\n",
    "            # print(content)\n",
    "            for key in content.values():\n",
    "                data_list.append(key[\"date\"])\n",
    "                data_list.append(key[\"time\"])\n",
    "                data_list.append(key[\"s_t0\"])\n",
    "                data_list.append(key[\"s_d0\"])\n",
    "                print(data_list)\n",
    "            "
   ]
  },
  {
   "cell_type": "code",
   "execution_count": 23,
   "metadata": {},
   "outputs": [
    {
     "name": "stdout",
     "output_type": "stream",
     "text": [
      "https://pm25.lass-net.org/data/history-date.php?device_id=28C2DDDD4346&date=2018-02-21\n",
      "['2018-02-21', '00:03:30', 24.0, 7.0]\n",
      "['2018-02-21', '00:15:45', 24.0, 5.0]\n",
      "['2018-02-21', '00:21:49', 24.0, 5.0]\n",
      "['2018-02-21', '00:40:25', 24.12, 7.0]\n",
      "['2018-02-21', '00:46:39', 24.12, 7.0]\n",
      "['2018-02-21', '01:23:39', 24.5, 28.0]\n",
      "['2018-02-21', '02:40:30', 24.75, 17.0]\n",
      "['2018-02-21', '05:00:16', 24.25, 2.0]\n",
      "['2018-02-21', '06:32:21', 24.0, 1.0]\n",
      "['2018-02-21', '07:28:45', 23.87, 3.0]\n",
      "['2018-02-21', '07:41:11', 23.75, 3.0]\n",
      "['2018-02-21', '07:53:37', 23.75, 4.0]\n",
      "['2018-02-21', '08:12:10', 23.75, 7.0]\n",
      "['2018-02-21', '08:36:50', 23.62, 15.0]\n",
      "['2018-02-21', '10:12:35', 23.62, 25.0]\n",
      "['2018-02-21', '10:24:26', 23.75, 26.0]\n",
      "['2018-02-21', '10:30:20', 23.75, 23.0]\n",
      "['2018-02-21', '10:36:21', 23.87, 26.0]\n",
      "['2018-02-21', '10:48:14', 23.87, 23.0]\n",
      "['2018-02-21', '11:06:11', 24.12, 23.0]\n",
      "['2018-02-21', '11:23:58', 24.12, 29.0]\n",
      "['2018-02-21', '12:17:11', 24.12, 32.0]\n",
      "['2018-02-21', '12:40:47', 24.12, 32.0]\n",
      "['2018-02-21', '13:28:09', 24.12, 32.0]\n",
      "['2018-02-21', '13:39:57', 24.12, 34.0]\n",
      "['2018-02-21', '14:03:38', 24.12, 32.0]\n",
      "['2018-02-21', '14:15:31', 24.12, 32.0]\n",
      "['2018-02-21', '14:21:27', 24.12, 33.0]\n",
      "['2018-02-21', '14:27:24', 24.12, 33.0]\n",
      "['2018-02-21', '14:33:18', 24.12, 32.0]\n",
      "['2018-02-21', '15:02:50', 24.0, 33.0]\n",
      "['2018-02-21', '15:08:44', 24.12, 36.0]\n",
      "['2018-02-21', '15:20:33', 24.0, 32.0]\n",
      "['2018-02-21', '17:18:47', 24.0, 32.0]\n",
      "['2018-02-21', '17:36:32', 24.0, 27.0]\n",
      "['2018-02-21', '18:35:44', 23.87, 28.0]\n",
      "['2018-02-21', '18:59:35', 24.0, 29.0]\n",
      "['2018-02-21', '20:23:41', 23.87, 27.0]\n",
      "['2018-02-21', '20:53:32', 23.87, 31.0]\n",
      "['2018-02-21', '21:11:38', 23.75, 26.0]\n",
      "['2018-02-21', '21:23:53', 23.75, 25.0]\n",
      "['2018-02-21', '23:22:59', 23.62, 26.0]\n",
      "['2018-02-21', '23:35:08', 23.62, 24.0]\n"
     ]
    }
   ],
   "source": [
    "device_id = \"28C2DDDD4346\"\n",
    "for x in range(21,22):\n",
    "    url = \"https://pm25.lass-net.org/data/history-date.php?device_id=\" + device_id + \"&date=2018-02-\" + str(x)\n",
    "    print(url)   \n",
    "    url_read(url)"
   ]
  },
  {
   "cell_type": "code",
   "execution_count": null,
   "metadata": {
    "collapsed": true
   },
   "outputs": [],
   "source": []
  }
 ],
 "metadata": {
  "kernelspec": {
   "display_name": "Python 3",
   "language": "python",
   "name": "python3"
  },
  "language_info": {
   "codemirror_mode": {
    "name": "ipython",
    "version": 3
   },
   "file_extension": ".py",
   "mimetype": "text/x-python",
   "name": "python",
   "nbconvert_exporter": "python",
   "pygments_lexer": "ipython3",
   "version": "3.6.3"
  }
 },
 "nbformat": 4,
 "nbformat_minor": 2
}
